{
  "nbformat": 4,
  "nbformat_minor": 0,
  "metadata": {
    "colab": {
      "provenance": []
    },
    "kernelspec": {
      "name": "python3",
      "display_name": "Python 3"
    },
    "language_info": {
      "name": "python"
    }
  },
  "cells": [
    {
      "cell_type": "markdown",
      "source": [
        "# Medical Insurance Premium Prediction"
      ],
      "metadata": {
        "id": "aFza9YQCcvSS"
      }
    },
    {
      "cell_type": "markdown",
      "source": [
        "The amount of the premium for a health insurance policy depends from person to person, as many factors affect the amount of the premium for a health insurance policy. Let’s say age, a young person is very less likely to have major health problems compared to an older person. Thus, treating an older person will be expensive compared to a young one. That is why an older person is required to pay a high premium compared to a young person.\n",
        "\n",
        "Just like age, many other factors affect the premium for a health insurance policy. Hope you now have understood what health insurance is and how the premium for a health insurance policy is determined. In the section below, I will take you through the task of health insurance premium prediction with machine learning using Python."
      ],
      "metadata": {
        "id": "xwxlOpiNcxho"
      }
    },
    {
      "cell_type": "markdown",
      "source": [
        "Dataset :- https://www.kaggle.com/tejashvi14/medical-insurance-premium-prediction"
      ],
      "metadata": {
        "id": "rsx58evodEAc"
      }
    },
    {
      "cell_type": "code",
      "execution_count": 73,
      "metadata": {
        "id": "QTdMsicdYUH7"
      },
      "outputs": [],
      "source": [
        "#import libraries\n",
        "import numpy as np #2 perform mathematical operations on arrays\n",
        "import pandas as pd #for data analysis\n",
        "\n",
        "from xgboost import XGBRegressor #gradient boosting model used for regression predictive modeling\n",
        "from sklearn.model_selection import train_test_split #measure the accuracy of the model \n",
        "from sklearn.model_selection import cross_val_score #statistical method used to estimate the performance (or accuracy) of machine learning models"
      ]
    },
    {
      "cell_type": "code",
      "source": [
        "#load the dataset 2 pandas data frame for manupulating the data\n",
        "data = pd.read_csv('Medicalpremium.csv', encoding = 'latin-1')\n",
        "\n",
        "#now v hv 2 replace null values with null string otherwise it will show errors\n",
        "#v will store this in variable claaed \"data\"\n",
        "medical_premium_data = data.where((pd.notnull(data)), '')\n",
        "\n",
        "#lets check the shape of the dataset\n",
        "medical_premium_data.shape"
      ],
      "metadata": {
        "colab": {
          "base_uri": "https://localhost:8080/"
        },
        "id": "ml1JMkTzdRZ-",
        "outputId": "09bfe6b6-d4c2-4bb1-ea57-19937d3487f9"
      },
      "execution_count": 74,
      "outputs": [
        {
          "output_type": "execute_result",
          "data": {
            "text/plain": [
              "(986, 11)"
            ]
          },
          "metadata": {},
          "execution_count": 74
        }
      ]
    },
    {
      "cell_type": "code",
      "source": [
        "#printing the dataset\n",
        "print(medical_premium_data)"
      ],
      "metadata": {
        "id": "5ZPgDMhgdsjo",
        "colab": {
          "base_uri": "https://localhost:8080/"
        },
        "outputId": "f64b204f-b0b7-4fda-83c7-80e25a4f1a69"
      },
      "execution_count": 75,
      "outputs": [
        {
          "output_type": "stream",
          "name": "stdout",
          "text": [
            "     Age  Diabetes  BloodPressureProblems  AnyTransplants  AnyChronicDiseases  \\\n",
            "0     45         0                      0               0                   0   \n",
            "1     60         1                      0               0                   0   \n",
            "2     36         1                      1               0                   0   \n",
            "3     52         1                      1               0                   1   \n",
            "4     38         0                      0               0                   1   \n",
            "..   ...       ...                    ...             ...                 ...   \n",
            "981   18         0                      0               0                   0   \n",
            "982   64         1                      1               0                   0   \n",
            "983   56         0                      1               0                   0   \n",
            "984   47         1                      1               0                   0   \n",
            "985   21         0                      0               0                   0   \n",
            "\n",
            "     Height  Weight  KnownAllergies  HistoryOfCancerInFamily  \\\n",
            "0       155      57               0                        0   \n",
            "1       180      73               0                        0   \n",
            "2       158      59               0                        0   \n",
            "3       183      93               0                        0   \n",
            "4       166      88               0                        0   \n",
            "..      ...     ...             ...                      ...   \n",
            "981     169      67               0                        0   \n",
            "982     153      70               0                        0   \n",
            "983     155      71               0                        0   \n",
            "984     158      73               1                        0   \n",
            "985     158      75               1                        0   \n",
            "\n",
            "     NumberOfMajorSurgeries  PremiumPrice  \n",
            "0                         0         25000  \n",
            "1                         0         29000  \n",
            "2                         1         23000  \n",
            "3                         2         28000  \n",
            "4                         1         23000  \n",
            "..                      ...           ...  \n",
            "981                       0         15000  \n",
            "982                       3         28000  \n",
            "983                       1         29000  \n",
            "984                       1         39000  \n",
            "985                       1         15000  \n",
            "\n",
            "[986 rows x 11 columns]\n"
          ]
        }
      ]
    },
    {
      "cell_type": "markdown",
      "metadata": {
        "id": "5v_-Z0Kf2wvf"
      },
      "source": [
        "### Printing the head of the dataset to have a look at the dataframe"
      ]
    },
    {
      "cell_type": "code",
      "source": [
        "#lets c sample of this dataset in pandas data frame\n",
        "#first 10 rows of the dataset\n",
        "medical_premium_data.head(10)"
      ],
      "metadata": {
        "id": "KZM-U-KSd6VE",
        "colab": {
          "base_uri": "https://localhost:8080/",
          "height": 427
        },
        "outputId": "09181352-dda2-4f78-d46f-c88ab2a4442f"
      },
      "execution_count": 76,
      "outputs": [
        {
          "output_type": "execute_result",
          "data": {
            "text/plain": [
              "   Age  Diabetes  BloodPressureProblems  AnyTransplants  AnyChronicDiseases  \\\n",
              "0   45         0                      0               0                   0   \n",
              "1   60         1                      0               0                   0   \n",
              "2   36         1                      1               0                   0   \n",
              "3   52         1                      1               0                   1   \n",
              "4   38         0                      0               0                   1   \n",
              "5   30         0                      0               0                   0   \n",
              "6   33         0                      0               0                   0   \n",
              "7   23         0                      0               0                   0   \n",
              "8   48         1                      0               0                   0   \n",
              "9   38         0                      0               0                   0   \n",
              "\n",
              "   Height  Weight  KnownAllergies  HistoryOfCancerInFamily  \\\n",
              "0     155      57               0                        0   \n",
              "1     180      73               0                        0   \n",
              "2     158      59               0                        0   \n",
              "3     183      93               0                        0   \n",
              "4     166      88               0                        0   \n",
              "5     160      69               1                        0   \n",
              "6     150      54               0                        0   \n",
              "7     181      79               1                        0   \n",
              "8     169      74               1                        0   \n",
              "9     182      93               0                        0   \n",
              "\n",
              "   NumberOfMajorSurgeries  PremiumPrice  \n",
              "0                       0         25000  \n",
              "1                       0         29000  \n",
              "2                       1         23000  \n",
              "3                       2         28000  \n",
              "4                       1         23000  \n",
              "5                       1         23000  \n",
              "6                       0         21000  \n",
              "7                       0         15000  \n",
              "8                       0         23000  \n",
              "9                       0         23000  "
            ],
            "text/html": [
              "\n",
              "  <div id=\"df-04c9d6eb-b970-446a-a665-962b6e36786e\">\n",
              "    <div class=\"colab-df-container\">\n",
              "      <div>\n",
              "<style scoped>\n",
              "    .dataframe tbody tr th:only-of-type {\n",
              "        vertical-align: middle;\n",
              "    }\n",
              "\n",
              "    .dataframe tbody tr th {\n",
              "        vertical-align: top;\n",
              "    }\n",
              "\n",
              "    .dataframe thead th {\n",
              "        text-align: right;\n",
              "    }\n",
              "</style>\n",
              "<table border=\"1\" class=\"dataframe\">\n",
              "  <thead>\n",
              "    <tr style=\"text-align: right;\">\n",
              "      <th></th>\n",
              "      <th>Age</th>\n",
              "      <th>Diabetes</th>\n",
              "      <th>BloodPressureProblems</th>\n",
              "      <th>AnyTransplants</th>\n",
              "      <th>AnyChronicDiseases</th>\n",
              "      <th>Height</th>\n",
              "      <th>Weight</th>\n",
              "      <th>KnownAllergies</th>\n",
              "      <th>HistoryOfCancerInFamily</th>\n",
              "      <th>NumberOfMajorSurgeries</th>\n",
              "      <th>PremiumPrice</th>\n",
              "    </tr>\n",
              "  </thead>\n",
              "  <tbody>\n",
              "    <tr>\n",
              "      <th>0</th>\n",
              "      <td>45</td>\n",
              "      <td>0</td>\n",
              "      <td>0</td>\n",
              "      <td>0</td>\n",
              "      <td>0</td>\n",
              "      <td>155</td>\n",
              "      <td>57</td>\n",
              "      <td>0</td>\n",
              "      <td>0</td>\n",
              "      <td>0</td>\n",
              "      <td>25000</td>\n",
              "    </tr>\n",
              "    <tr>\n",
              "      <th>1</th>\n",
              "      <td>60</td>\n",
              "      <td>1</td>\n",
              "      <td>0</td>\n",
              "      <td>0</td>\n",
              "      <td>0</td>\n",
              "      <td>180</td>\n",
              "      <td>73</td>\n",
              "      <td>0</td>\n",
              "      <td>0</td>\n",
              "      <td>0</td>\n",
              "      <td>29000</td>\n",
              "    </tr>\n",
              "    <tr>\n",
              "      <th>2</th>\n",
              "      <td>36</td>\n",
              "      <td>1</td>\n",
              "      <td>1</td>\n",
              "      <td>0</td>\n",
              "      <td>0</td>\n",
              "      <td>158</td>\n",
              "      <td>59</td>\n",
              "      <td>0</td>\n",
              "      <td>0</td>\n",
              "      <td>1</td>\n",
              "      <td>23000</td>\n",
              "    </tr>\n",
              "    <tr>\n",
              "      <th>3</th>\n",
              "      <td>52</td>\n",
              "      <td>1</td>\n",
              "      <td>1</td>\n",
              "      <td>0</td>\n",
              "      <td>1</td>\n",
              "      <td>183</td>\n",
              "      <td>93</td>\n",
              "      <td>0</td>\n",
              "      <td>0</td>\n",
              "      <td>2</td>\n",
              "      <td>28000</td>\n",
              "    </tr>\n",
              "    <tr>\n",
              "      <th>4</th>\n",
              "      <td>38</td>\n",
              "      <td>0</td>\n",
              "      <td>0</td>\n",
              "      <td>0</td>\n",
              "      <td>1</td>\n",
              "      <td>166</td>\n",
              "      <td>88</td>\n",
              "      <td>0</td>\n",
              "      <td>0</td>\n",
              "      <td>1</td>\n",
              "      <td>23000</td>\n",
              "    </tr>\n",
              "    <tr>\n",
              "      <th>5</th>\n",
              "      <td>30</td>\n",
              "      <td>0</td>\n",
              "      <td>0</td>\n",
              "      <td>0</td>\n",
              "      <td>0</td>\n",
              "      <td>160</td>\n",
              "      <td>69</td>\n",
              "      <td>1</td>\n",
              "      <td>0</td>\n",
              "      <td>1</td>\n",
              "      <td>23000</td>\n",
              "    </tr>\n",
              "    <tr>\n",
              "      <th>6</th>\n",
              "      <td>33</td>\n",
              "      <td>0</td>\n",
              "      <td>0</td>\n",
              "      <td>0</td>\n",
              "      <td>0</td>\n",
              "      <td>150</td>\n",
              "      <td>54</td>\n",
              "      <td>0</td>\n",
              "      <td>0</td>\n",
              "      <td>0</td>\n",
              "      <td>21000</td>\n",
              "    </tr>\n",
              "    <tr>\n",
              "      <th>7</th>\n",
              "      <td>23</td>\n",
              "      <td>0</td>\n",
              "      <td>0</td>\n",
              "      <td>0</td>\n",
              "      <td>0</td>\n",
              "      <td>181</td>\n",
              "      <td>79</td>\n",
              "      <td>1</td>\n",
              "      <td>0</td>\n",
              "      <td>0</td>\n",
              "      <td>15000</td>\n",
              "    </tr>\n",
              "    <tr>\n",
              "      <th>8</th>\n",
              "      <td>48</td>\n",
              "      <td>1</td>\n",
              "      <td>0</td>\n",
              "      <td>0</td>\n",
              "      <td>0</td>\n",
              "      <td>169</td>\n",
              "      <td>74</td>\n",
              "      <td>1</td>\n",
              "      <td>0</td>\n",
              "      <td>0</td>\n",
              "      <td>23000</td>\n",
              "    </tr>\n",
              "    <tr>\n",
              "      <th>9</th>\n",
              "      <td>38</td>\n",
              "      <td>0</td>\n",
              "      <td>0</td>\n",
              "      <td>0</td>\n",
              "      <td>0</td>\n",
              "      <td>182</td>\n",
              "      <td>93</td>\n",
              "      <td>0</td>\n",
              "      <td>0</td>\n",
              "      <td>0</td>\n",
              "      <td>23000</td>\n",
              "    </tr>\n",
              "  </tbody>\n",
              "</table>\n",
              "</div>\n",
              "      <button class=\"colab-df-convert\" onclick=\"convertToInteractive('df-04c9d6eb-b970-446a-a665-962b6e36786e')\"\n",
              "              title=\"Convert this dataframe to an interactive table.\"\n",
              "              style=\"display:none;\">\n",
              "        \n",
              "  <svg xmlns=\"http://www.w3.org/2000/svg\" height=\"24px\"viewBox=\"0 0 24 24\"\n",
              "       width=\"24px\">\n",
              "    <path d=\"M0 0h24v24H0V0z\" fill=\"none\"/>\n",
              "    <path d=\"M18.56 5.44l.94 2.06.94-2.06 2.06-.94-2.06-.94-.94-2.06-.94 2.06-2.06.94zm-11 1L8.5 8.5l.94-2.06 2.06-.94-2.06-.94L8.5 2.5l-.94 2.06-2.06.94zm10 10l.94 2.06.94-2.06 2.06-.94-2.06-.94-.94-2.06-.94 2.06-2.06.94z\"/><path d=\"M17.41 7.96l-1.37-1.37c-.4-.4-.92-.59-1.43-.59-.52 0-1.04.2-1.43.59L10.3 9.45l-7.72 7.72c-.78.78-.78 2.05 0 2.83L4 21.41c.39.39.9.59 1.41.59.51 0 1.02-.2 1.41-.59l7.78-7.78 2.81-2.81c.8-.78.8-2.07 0-2.86zM5.41 20L4 18.59l7.72-7.72 1.47 1.35L5.41 20z\"/>\n",
              "  </svg>\n",
              "      </button>\n",
              "      \n",
              "  <style>\n",
              "    .colab-df-container {\n",
              "      display:flex;\n",
              "      flex-wrap:wrap;\n",
              "      gap: 12px;\n",
              "    }\n",
              "\n",
              "    .colab-df-convert {\n",
              "      background-color: #E8F0FE;\n",
              "      border: none;\n",
              "      border-radius: 50%;\n",
              "      cursor: pointer;\n",
              "      display: none;\n",
              "      fill: #1967D2;\n",
              "      height: 32px;\n",
              "      padding: 0 0 0 0;\n",
              "      width: 32px;\n",
              "    }\n",
              "\n",
              "    .colab-df-convert:hover {\n",
              "      background-color: #E2EBFA;\n",
              "      box-shadow: 0px 1px 2px rgba(60, 64, 67, 0.3), 0px 1px 3px 1px rgba(60, 64, 67, 0.15);\n",
              "      fill: #174EA6;\n",
              "    }\n",
              "\n",
              "    [theme=dark] .colab-df-convert {\n",
              "      background-color: #3B4455;\n",
              "      fill: #D2E3FC;\n",
              "    }\n",
              "\n",
              "    [theme=dark] .colab-df-convert:hover {\n",
              "      background-color: #434B5C;\n",
              "      box-shadow: 0px 1px 3px 1px rgba(0, 0, 0, 0.15);\n",
              "      filter: drop-shadow(0px 1px 2px rgba(0, 0, 0, 0.3));\n",
              "      fill: #FFFFFF;\n",
              "    }\n",
              "  </style>\n",
              "\n",
              "      <script>\n",
              "        const buttonEl =\n",
              "          document.querySelector('#df-04c9d6eb-b970-446a-a665-962b6e36786e button.colab-df-convert');\n",
              "        buttonEl.style.display =\n",
              "          google.colab.kernel.accessAllowed ? 'block' : 'none';\n",
              "\n",
              "        async function convertToInteractive(key) {\n",
              "          const element = document.querySelector('#df-04c9d6eb-b970-446a-a665-962b6e36786e');\n",
              "          const dataTable =\n",
              "            await google.colab.kernel.invokeFunction('convertToInteractive',\n",
              "                                                     [key], {});\n",
              "          if (!dataTable) return;\n",
              "\n",
              "          const docLinkHtml = 'Like what you see? Visit the ' +\n",
              "            '<a target=\"_blank\" href=https://colab.research.google.com/notebooks/data_table.ipynb>data table notebook</a>'\n",
              "            + ' to learn more about interactive tables.';\n",
              "          element.innerHTML = '';\n",
              "          dataTable['output_type'] = 'display_data';\n",
              "          await google.colab.output.renderOutput(dataTable, element);\n",
              "          const docLink = document.createElement('div');\n",
              "          docLink.innerHTML = docLinkHtml;\n",
              "          element.appendChild(docLink);\n",
              "        }\n",
              "      </script>\n",
              "    </div>\n",
              "  </div>\n",
              "  "
            ]
          },
          "metadata": {},
          "execution_count": 76
        }
      ]
    },
    {
      "cell_type": "markdown",
      "metadata": {
        "id": "t7hlkjv8xroC"
      },
      "source": [
        "### Printing the tail of the dataset to have a look at the dataframe"
      ]
    },
    {
      "cell_type": "code",
      "source": [
        "#last 10 rows of the dataset\n",
        "medical_premium_data.tail(10)"
      ],
      "metadata": {
        "id": "1m3bSajNeM9G",
        "colab": {
          "base_uri": "https://localhost:8080/",
          "height": 427
        },
        "outputId": "dbc47591-e6b8-4737-ed91-8edad44b0741"
      },
      "execution_count": 77,
      "outputs": [
        {
          "output_type": "execute_result",
          "data": {
            "text/plain": [
              "     Age  Diabetes  BloodPressureProblems  AnyTransplants  AnyChronicDiseases  \\\n",
              "976   21         0                      1               0                   0   \n",
              "977   45         0                      1               0                   1   \n",
              "978   40         0                      1               1                   0   \n",
              "979   24         0                      0               0                   0   \n",
              "980   40         0                      1               1                   0   \n",
              "981   18         0                      0               0                   0   \n",
              "982   64         1                      1               0                   0   \n",
              "983   56         0                      1               0                   0   \n",
              "984   47         1                      1               0                   0   \n",
              "985   21         0                      0               0                   0   \n",
              "\n",
              "     Height  Weight  KnownAllergies  HistoryOfCancerInFamily  \\\n",
              "976     155      74               0                        0   \n",
              "977     157      67               0                        0   \n",
              "978     168      70               0                        0   \n",
              "979     161      71               0                        0   \n",
              "980     171      74               0                        0   \n",
              "981     169      67               0                        0   \n",
              "982     153      70               0                        0   \n",
              "983     155      71               0                        0   \n",
              "984     158      73               1                        0   \n",
              "985     158      75               1                        0   \n",
              "\n",
              "     NumberOfMajorSurgeries  PremiumPrice  \n",
              "976                       0         39000  \n",
              "977                       1         25000  \n",
              "978                       0         17000  \n",
              "979                       0         15000  \n",
              "980                       0         38000  \n",
              "981                       0         15000  \n",
              "982                       3         28000  \n",
              "983                       1         29000  \n",
              "984                       1         39000  \n",
              "985                       1         15000  "
            ],
            "text/html": [
              "\n",
              "  <div id=\"df-bd000a36-4727-4307-a4d9-4e23b7830465\">\n",
              "    <div class=\"colab-df-container\">\n",
              "      <div>\n",
              "<style scoped>\n",
              "    .dataframe tbody tr th:only-of-type {\n",
              "        vertical-align: middle;\n",
              "    }\n",
              "\n",
              "    .dataframe tbody tr th {\n",
              "        vertical-align: top;\n",
              "    }\n",
              "\n",
              "    .dataframe thead th {\n",
              "        text-align: right;\n",
              "    }\n",
              "</style>\n",
              "<table border=\"1\" class=\"dataframe\">\n",
              "  <thead>\n",
              "    <tr style=\"text-align: right;\">\n",
              "      <th></th>\n",
              "      <th>Age</th>\n",
              "      <th>Diabetes</th>\n",
              "      <th>BloodPressureProblems</th>\n",
              "      <th>AnyTransplants</th>\n",
              "      <th>AnyChronicDiseases</th>\n",
              "      <th>Height</th>\n",
              "      <th>Weight</th>\n",
              "      <th>KnownAllergies</th>\n",
              "      <th>HistoryOfCancerInFamily</th>\n",
              "      <th>NumberOfMajorSurgeries</th>\n",
              "      <th>PremiumPrice</th>\n",
              "    </tr>\n",
              "  </thead>\n",
              "  <tbody>\n",
              "    <tr>\n",
              "      <th>976</th>\n",
              "      <td>21</td>\n",
              "      <td>0</td>\n",
              "      <td>1</td>\n",
              "      <td>0</td>\n",
              "      <td>0</td>\n",
              "      <td>155</td>\n",
              "      <td>74</td>\n",
              "      <td>0</td>\n",
              "      <td>0</td>\n",
              "      <td>0</td>\n",
              "      <td>39000</td>\n",
              "    </tr>\n",
              "    <tr>\n",
              "      <th>977</th>\n",
              "      <td>45</td>\n",
              "      <td>0</td>\n",
              "      <td>1</td>\n",
              "      <td>0</td>\n",
              "      <td>1</td>\n",
              "      <td>157</td>\n",
              "      <td>67</td>\n",
              "      <td>0</td>\n",
              "      <td>0</td>\n",
              "      <td>1</td>\n",
              "      <td>25000</td>\n",
              "    </tr>\n",
              "    <tr>\n",
              "      <th>978</th>\n",
              "      <td>40</td>\n",
              "      <td>0</td>\n",
              "      <td>1</td>\n",
              "      <td>1</td>\n",
              "      <td>0</td>\n",
              "      <td>168</td>\n",
              "      <td>70</td>\n",
              "      <td>0</td>\n",
              "      <td>0</td>\n",
              "      <td>0</td>\n",
              "      <td>17000</td>\n",
              "    </tr>\n",
              "    <tr>\n",
              "      <th>979</th>\n",
              "      <td>24</td>\n",
              "      <td>0</td>\n",
              "      <td>0</td>\n",
              "      <td>0</td>\n",
              "      <td>0</td>\n",
              "      <td>161</td>\n",
              "      <td>71</td>\n",
              "      <td>0</td>\n",
              "      <td>0</td>\n",
              "      <td>0</td>\n",
              "      <td>15000</td>\n",
              "    </tr>\n",
              "    <tr>\n",
              "      <th>980</th>\n",
              "      <td>40</td>\n",
              "      <td>0</td>\n",
              "      <td>1</td>\n",
              "      <td>1</td>\n",
              "      <td>0</td>\n",
              "      <td>171</td>\n",
              "      <td>74</td>\n",
              "      <td>0</td>\n",
              "      <td>0</td>\n",
              "      <td>0</td>\n",
              "      <td>38000</td>\n",
              "    </tr>\n",
              "    <tr>\n",
              "      <th>981</th>\n",
              "      <td>18</td>\n",
              "      <td>0</td>\n",
              "      <td>0</td>\n",
              "      <td>0</td>\n",
              "      <td>0</td>\n",
              "      <td>169</td>\n",
              "      <td>67</td>\n",
              "      <td>0</td>\n",
              "      <td>0</td>\n",
              "      <td>0</td>\n",
              "      <td>15000</td>\n",
              "    </tr>\n",
              "    <tr>\n",
              "      <th>982</th>\n",
              "      <td>64</td>\n",
              "      <td>1</td>\n",
              "      <td>1</td>\n",
              "      <td>0</td>\n",
              "      <td>0</td>\n",
              "      <td>153</td>\n",
              "      <td>70</td>\n",
              "      <td>0</td>\n",
              "      <td>0</td>\n",
              "      <td>3</td>\n",
              "      <td>28000</td>\n",
              "    </tr>\n",
              "    <tr>\n",
              "      <th>983</th>\n",
              "      <td>56</td>\n",
              "      <td>0</td>\n",
              "      <td>1</td>\n",
              "      <td>0</td>\n",
              "      <td>0</td>\n",
              "      <td>155</td>\n",
              "      <td>71</td>\n",
              "      <td>0</td>\n",
              "      <td>0</td>\n",
              "      <td>1</td>\n",
              "      <td>29000</td>\n",
              "    </tr>\n",
              "    <tr>\n",
              "      <th>984</th>\n",
              "      <td>47</td>\n",
              "      <td>1</td>\n",
              "      <td>1</td>\n",
              "      <td>0</td>\n",
              "      <td>0</td>\n",
              "      <td>158</td>\n",
              "      <td>73</td>\n",
              "      <td>1</td>\n",
              "      <td>0</td>\n",
              "      <td>1</td>\n",
              "      <td>39000</td>\n",
              "    </tr>\n",
              "    <tr>\n",
              "      <th>985</th>\n",
              "      <td>21</td>\n",
              "      <td>0</td>\n",
              "      <td>0</td>\n",
              "      <td>0</td>\n",
              "      <td>0</td>\n",
              "      <td>158</td>\n",
              "      <td>75</td>\n",
              "      <td>1</td>\n",
              "      <td>0</td>\n",
              "      <td>1</td>\n",
              "      <td>15000</td>\n",
              "    </tr>\n",
              "  </tbody>\n",
              "</table>\n",
              "</div>\n",
              "      <button class=\"colab-df-convert\" onclick=\"convertToInteractive('df-bd000a36-4727-4307-a4d9-4e23b7830465')\"\n",
              "              title=\"Convert this dataframe to an interactive table.\"\n",
              "              style=\"display:none;\">\n",
              "        \n",
              "  <svg xmlns=\"http://www.w3.org/2000/svg\" height=\"24px\"viewBox=\"0 0 24 24\"\n",
              "       width=\"24px\">\n",
              "    <path d=\"M0 0h24v24H0V0z\" fill=\"none\"/>\n",
              "    <path d=\"M18.56 5.44l.94 2.06.94-2.06 2.06-.94-2.06-.94-.94-2.06-.94 2.06-2.06.94zm-11 1L8.5 8.5l.94-2.06 2.06-.94-2.06-.94L8.5 2.5l-.94 2.06-2.06.94zm10 10l.94 2.06.94-2.06 2.06-.94-2.06-.94-.94-2.06-.94 2.06-2.06.94z\"/><path d=\"M17.41 7.96l-1.37-1.37c-.4-.4-.92-.59-1.43-.59-.52 0-1.04.2-1.43.59L10.3 9.45l-7.72 7.72c-.78.78-.78 2.05 0 2.83L4 21.41c.39.39.9.59 1.41.59.51 0 1.02-.2 1.41-.59l7.78-7.78 2.81-2.81c.8-.78.8-2.07 0-2.86zM5.41 20L4 18.59l7.72-7.72 1.47 1.35L5.41 20z\"/>\n",
              "  </svg>\n",
              "      </button>\n",
              "      \n",
              "  <style>\n",
              "    .colab-df-container {\n",
              "      display:flex;\n",
              "      flex-wrap:wrap;\n",
              "      gap: 12px;\n",
              "    }\n",
              "\n",
              "    .colab-df-convert {\n",
              "      background-color: #E8F0FE;\n",
              "      border: none;\n",
              "      border-radius: 50%;\n",
              "      cursor: pointer;\n",
              "      display: none;\n",
              "      fill: #1967D2;\n",
              "      height: 32px;\n",
              "      padding: 0 0 0 0;\n",
              "      width: 32px;\n",
              "    }\n",
              "\n",
              "    .colab-df-convert:hover {\n",
              "      background-color: #E2EBFA;\n",
              "      box-shadow: 0px 1px 2px rgba(60, 64, 67, 0.3), 0px 1px 3px 1px rgba(60, 64, 67, 0.15);\n",
              "      fill: #174EA6;\n",
              "    }\n",
              "\n",
              "    [theme=dark] .colab-df-convert {\n",
              "      background-color: #3B4455;\n",
              "      fill: #D2E3FC;\n",
              "    }\n",
              "\n",
              "    [theme=dark] .colab-df-convert:hover {\n",
              "      background-color: #434B5C;\n",
              "      box-shadow: 0px 1px 3px 1px rgba(0, 0, 0, 0.15);\n",
              "      filter: drop-shadow(0px 1px 2px rgba(0, 0, 0, 0.3));\n",
              "      fill: #FFFFFF;\n",
              "    }\n",
              "  </style>\n",
              "\n",
              "      <script>\n",
              "        const buttonEl =\n",
              "          document.querySelector('#df-bd000a36-4727-4307-a4d9-4e23b7830465 button.colab-df-convert');\n",
              "        buttonEl.style.display =\n",
              "          google.colab.kernel.accessAllowed ? 'block' : 'none';\n",
              "\n",
              "        async function convertToInteractive(key) {\n",
              "          const element = document.querySelector('#df-bd000a36-4727-4307-a4d9-4e23b7830465');\n",
              "          const dataTable =\n",
              "            await google.colab.kernel.invokeFunction('convertToInteractive',\n",
              "                                                     [key], {});\n",
              "          if (!dataTable) return;\n",
              "\n",
              "          const docLinkHtml = 'Like what you see? Visit the ' +\n",
              "            '<a target=\"_blank\" href=https://colab.research.google.com/notebooks/data_table.ipynb>data table notebook</a>'\n",
              "            + ' to learn more about interactive tables.';\n",
              "          element.innerHTML = '';\n",
              "          dataTable['output_type'] = 'display_data';\n",
              "          await google.colab.output.renderOutput(dataTable, element);\n",
              "          const docLink = document.createElement('div');\n",
              "          docLink.innerHTML = docLinkHtml;\n",
              "          element.appendChild(docLink);\n",
              "        }\n",
              "      </script>\n",
              "    </div>\n",
              "  </div>\n",
              "  "
            ]
          },
          "metadata": {},
          "execution_count": 77
        }
      ]
    },
    {
      "cell_type": "code",
      "source": [
        "#dataset informations\n",
        "medical_premium_data.info()"
      ],
      "metadata": {
        "id": "6pvEswZEeUne",
        "colab": {
          "base_uri": "https://localhost:8080/"
        },
        "outputId": "f722133c-c2eb-4688-ef9a-2d8f5bb9ab9c"
      },
      "execution_count": 78,
      "outputs": [
        {
          "output_type": "stream",
          "name": "stdout",
          "text": [
            "<class 'pandas.core.frame.DataFrame'>\n",
            "RangeIndex: 986 entries, 0 to 985\n",
            "Data columns (total 11 columns):\n",
            " #   Column                   Non-Null Count  Dtype\n",
            "---  ------                   --------------  -----\n",
            " 0   Age                      986 non-null    int64\n",
            " 1   Diabetes                 986 non-null    int64\n",
            " 2   BloodPressureProblems    986 non-null    int64\n",
            " 3   AnyTransplants           986 non-null    int64\n",
            " 4   AnyChronicDiseases       986 non-null    int64\n",
            " 5   Height                   986 non-null    int64\n",
            " 6   Weight                   986 non-null    int64\n",
            " 7   KnownAllergies           986 non-null    int64\n",
            " 8   HistoryOfCancerInFamily  986 non-null    int64\n",
            " 9   NumberOfMajorSurgeries   986 non-null    int64\n",
            " 10  PremiumPrice             986 non-null    int64\n",
            "dtypes: int64(11)\n",
            "memory usage: 84.9 KB\n"
          ]
        }
      ]
    },
    {
      "cell_type": "code",
      "source": [
        "#data preprocessing 2 check whether if there r any empty values\n",
        "#checking the number of missing values in each column\n",
        "medical_premium_data.isnull().sum()"
      ],
      "metadata": {
        "id": "eBhOf1QzedBN",
        "colab": {
          "base_uri": "https://localhost:8080/"
        },
        "outputId": "d05227ef-9b8f-4a65-aadc-a848cff4e334"
      },
      "execution_count": 79,
      "outputs": [
        {
          "output_type": "execute_result",
          "data": {
            "text/plain": [
              "Age                        0\n",
              "Diabetes                   0\n",
              "BloodPressureProblems      0\n",
              "AnyTransplants             0\n",
              "AnyChronicDiseases         0\n",
              "Height                     0\n",
              "Weight                     0\n",
              "KnownAllergies             0\n",
              "HistoryOfCancerInFamily    0\n",
              "NumberOfMajorSurgeries     0\n",
              "PremiumPrice               0\n",
              "dtype: int64"
            ]
          },
          "metadata": {},
          "execution_count": 79
        }
      ]
    },
    {
      "cell_type": "code",
      "source": [
        "#statistical Measures of the dataset\n",
        "medical_premium_data.describe()"
      ],
      "metadata": {
        "id": "XOLmvQ-ciNQe",
        "colab": {
          "base_uri": "https://localhost:8080/",
          "height": 364
        },
        "outputId": "f80eebb2-509e-4adb-9760-79fd0e050c14"
      },
      "execution_count": 80,
      "outputs": [
        {
          "output_type": "execute_result",
          "data": {
            "text/plain": [
              "              Age    Diabetes  BloodPressureProblems  AnyTransplants  \\\n",
              "count  986.000000  986.000000             986.000000      986.000000   \n",
              "mean    41.745436    0.419878               0.468560        0.055781   \n",
              "std     13.963371    0.493789               0.499264        0.229615   \n",
              "min     18.000000    0.000000               0.000000        0.000000   \n",
              "25%     30.000000    0.000000               0.000000        0.000000   \n",
              "50%     42.000000    0.000000               0.000000        0.000000   \n",
              "75%     53.000000    1.000000               1.000000        0.000000   \n",
              "max     66.000000    1.000000               1.000000        1.000000   \n",
              "\n",
              "       AnyChronicDiseases      Height      Weight  KnownAllergies  \\\n",
              "count          986.000000  986.000000  986.000000      986.000000   \n",
              "mean             0.180527  168.182556   76.950304        0.215010   \n",
              "std              0.384821   10.098155   14.265096        0.411038   \n",
              "min              0.000000  145.000000   51.000000        0.000000   \n",
              "25%              0.000000  161.000000   67.000000        0.000000   \n",
              "50%              0.000000  168.000000   75.000000        0.000000   \n",
              "75%              0.000000  176.000000   87.000000        0.000000   \n",
              "max              1.000000  188.000000  132.000000        1.000000   \n",
              "\n",
              "       HistoryOfCancerInFamily  NumberOfMajorSurgeries  PremiumPrice  \n",
              "count               986.000000              986.000000    986.000000  \n",
              "mean                  0.117647                0.667343  24336.713996  \n",
              "std                   0.322353                0.749205   6248.184382  \n",
              "min                   0.000000                0.000000  15000.000000  \n",
              "25%                   0.000000                0.000000  21000.000000  \n",
              "50%                   0.000000                1.000000  23000.000000  \n",
              "75%                   0.000000                1.000000  28000.000000  \n",
              "max                   1.000000                3.000000  40000.000000  "
            ],
            "text/html": [
              "\n",
              "  <div id=\"df-266e06e5-323b-426c-877f-d3dc2f6d476a\">\n",
              "    <div class=\"colab-df-container\">\n",
              "      <div>\n",
              "<style scoped>\n",
              "    .dataframe tbody tr th:only-of-type {\n",
              "        vertical-align: middle;\n",
              "    }\n",
              "\n",
              "    .dataframe tbody tr th {\n",
              "        vertical-align: top;\n",
              "    }\n",
              "\n",
              "    .dataframe thead th {\n",
              "        text-align: right;\n",
              "    }\n",
              "</style>\n",
              "<table border=\"1\" class=\"dataframe\">\n",
              "  <thead>\n",
              "    <tr style=\"text-align: right;\">\n",
              "      <th></th>\n",
              "      <th>Age</th>\n",
              "      <th>Diabetes</th>\n",
              "      <th>BloodPressureProblems</th>\n",
              "      <th>AnyTransplants</th>\n",
              "      <th>AnyChronicDiseases</th>\n",
              "      <th>Height</th>\n",
              "      <th>Weight</th>\n",
              "      <th>KnownAllergies</th>\n",
              "      <th>HistoryOfCancerInFamily</th>\n",
              "      <th>NumberOfMajorSurgeries</th>\n",
              "      <th>PremiumPrice</th>\n",
              "    </tr>\n",
              "  </thead>\n",
              "  <tbody>\n",
              "    <tr>\n",
              "      <th>count</th>\n",
              "      <td>986.000000</td>\n",
              "      <td>986.000000</td>\n",
              "      <td>986.000000</td>\n",
              "      <td>986.000000</td>\n",
              "      <td>986.000000</td>\n",
              "      <td>986.000000</td>\n",
              "      <td>986.000000</td>\n",
              "      <td>986.000000</td>\n",
              "      <td>986.000000</td>\n",
              "      <td>986.000000</td>\n",
              "      <td>986.000000</td>\n",
              "    </tr>\n",
              "    <tr>\n",
              "      <th>mean</th>\n",
              "      <td>41.745436</td>\n",
              "      <td>0.419878</td>\n",
              "      <td>0.468560</td>\n",
              "      <td>0.055781</td>\n",
              "      <td>0.180527</td>\n",
              "      <td>168.182556</td>\n",
              "      <td>76.950304</td>\n",
              "      <td>0.215010</td>\n",
              "      <td>0.117647</td>\n",
              "      <td>0.667343</td>\n",
              "      <td>24336.713996</td>\n",
              "    </tr>\n",
              "    <tr>\n",
              "      <th>std</th>\n",
              "      <td>13.963371</td>\n",
              "      <td>0.493789</td>\n",
              "      <td>0.499264</td>\n",
              "      <td>0.229615</td>\n",
              "      <td>0.384821</td>\n",
              "      <td>10.098155</td>\n",
              "      <td>14.265096</td>\n",
              "      <td>0.411038</td>\n",
              "      <td>0.322353</td>\n",
              "      <td>0.749205</td>\n",
              "      <td>6248.184382</td>\n",
              "    </tr>\n",
              "    <tr>\n",
              "      <th>min</th>\n",
              "      <td>18.000000</td>\n",
              "      <td>0.000000</td>\n",
              "      <td>0.000000</td>\n",
              "      <td>0.000000</td>\n",
              "      <td>0.000000</td>\n",
              "      <td>145.000000</td>\n",
              "      <td>51.000000</td>\n",
              "      <td>0.000000</td>\n",
              "      <td>0.000000</td>\n",
              "      <td>0.000000</td>\n",
              "      <td>15000.000000</td>\n",
              "    </tr>\n",
              "    <tr>\n",
              "      <th>25%</th>\n",
              "      <td>30.000000</td>\n",
              "      <td>0.000000</td>\n",
              "      <td>0.000000</td>\n",
              "      <td>0.000000</td>\n",
              "      <td>0.000000</td>\n",
              "      <td>161.000000</td>\n",
              "      <td>67.000000</td>\n",
              "      <td>0.000000</td>\n",
              "      <td>0.000000</td>\n",
              "      <td>0.000000</td>\n",
              "      <td>21000.000000</td>\n",
              "    </tr>\n",
              "    <tr>\n",
              "      <th>50%</th>\n",
              "      <td>42.000000</td>\n",
              "      <td>0.000000</td>\n",
              "      <td>0.000000</td>\n",
              "      <td>0.000000</td>\n",
              "      <td>0.000000</td>\n",
              "      <td>168.000000</td>\n",
              "      <td>75.000000</td>\n",
              "      <td>0.000000</td>\n",
              "      <td>0.000000</td>\n",
              "      <td>1.000000</td>\n",
              "      <td>23000.000000</td>\n",
              "    </tr>\n",
              "    <tr>\n",
              "      <th>75%</th>\n",
              "      <td>53.000000</td>\n",
              "      <td>1.000000</td>\n",
              "      <td>1.000000</td>\n",
              "      <td>0.000000</td>\n",
              "      <td>0.000000</td>\n",
              "      <td>176.000000</td>\n",
              "      <td>87.000000</td>\n",
              "      <td>0.000000</td>\n",
              "      <td>0.000000</td>\n",
              "      <td>1.000000</td>\n",
              "      <td>28000.000000</td>\n",
              "    </tr>\n",
              "    <tr>\n",
              "      <th>max</th>\n",
              "      <td>66.000000</td>\n",
              "      <td>1.000000</td>\n",
              "      <td>1.000000</td>\n",
              "      <td>1.000000</td>\n",
              "      <td>1.000000</td>\n",
              "      <td>188.000000</td>\n",
              "      <td>132.000000</td>\n",
              "      <td>1.000000</td>\n",
              "      <td>1.000000</td>\n",
              "      <td>3.000000</td>\n",
              "      <td>40000.000000</td>\n",
              "    </tr>\n",
              "  </tbody>\n",
              "</table>\n",
              "</div>\n",
              "      <button class=\"colab-df-convert\" onclick=\"convertToInteractive('df-266e06e5-323b-426c-877f-d3dc2f6d476a')\"\n",
              "              title=\"Convert this dataframe to an interactive table.\"\n",
              "              style=\"display:none;\">\n",
              "        \n",
              "  <svg xmlns=\"http://www.w3.org/2000/svg\" height=\"24px\"viewBox=\"0 0 24 24\"\n",
              "       width=\"24px\">\n",
              "    <path d=\"M0 0h24v24H0V0z\" fill=\"none\"/>\n",
              "    <path d=\"M18.56 5.44l.94 2.06.94-2.06 2.06-.94-2.06-.94-.94-2.06-.94 2.06-2.06.94zm-11 1L8.5 8.5l.94-2.06 2.06-.94-2.06-.94L8.5 2.5l-.94 2.06-2.06.94zm10 10l.94 2.06.94-2.06 2.06-.94-2.06-.94-.94-2.06-.94 2.06-2.06.94z\"/><path d=\"M17.41 7.96l-1.37-1.37c-.4-.4-.92-.59-1.43-.59-.52 0-1.04.2-1.43.59L10.3 9.45l-7.72 7.72c-.78.78-.78 2.05 0 2.83L4 21.41c.39.39.9.59 1.41.59.51 0 1.02-.2 1.41-.59l7.78-7.78 2.81-2.81c.8-.78.8-2.07 0-2.86zM5.41 20L4 18.59l7.72-7.72 1.47 1.35L5.41 20z\"/>\n",
              "  </svg>\n",
              "      </button>\n",
              "      \n",
              "  <style>\n",
              "    .colab-df-container {\n",
              "      display:flex;\n",
              "      flex-wrap:wrap;\n",
              "      gap: 12px;\n",
              "    }\n",
              "\n",
              "    .colab-df-convert {\n",
              "      background-color: #E8F0FE;\n",
              "      border: none;\n",
              "      border-radius: 50%;\n",
              "      cursor: pointer;\n",
              "      display: none;\n",
              "      fill: #1967D2;\n",
              "      height: 32px;\n",
              "      padding: 0 0 0 0;\n",
              "      width: 32px;\n",
              "    }\n",
              "\n",
              "    .colab-df-convert:hover {\n",
              "      background-color: #E2EBFA;\n",
              "      box-shadow: 0px 1px 2px rgba(60, 64, 67, 0.3), 0px 1px 3px 1px rgba(60, 64, 67, 0.15);\n",
              "      fill: #174EA6;\n",
              "    }\n",
              "\n",
              "    [theme=dark] .colab-df-convert {\n",
              "      background-color: #3B4455;\n",
              "      fill: #D2E3FC;\n",
              "    }\n",
              "\n",
              "    [theme=dark] .colab-df-convert:hover {\n",
              "      background-color: #434B5C;\n",
              "      box-shadow: 0px 1px 3px 1px rgba(0, 0, 0, 0.15);\n",
              "      filter: drop-shadow(0px 1px 2px rgba(0, 0, 0, 0.3));\n",
              "      fill: #FFFFFF;\n",
              "    }\n",
              "  </style>\n",
              "\n",
              "      <script>\n",
              "        const buttonEl =\n",
              "          document.querySelector('#df-266e06e5-323b-426c-877f-d3dc2f6d476a button.colab-df-convert');\n",
              "        buttonEl.style.display =\n",
              "          google.colab.kernel.accessAllowed ? 'block' : 'none';\n",
              "\n",
              "        async function convertToInteractive(key) {\n",
              "          const element = document.querySelector('#df-266e06e5-323b-426c-877f-d3dc2f6d476a');\n",
              "          const dataTable =\n",
              "            await google.colab.kernel.invokeFunction('convertToInteractive',\n",
              "                                                     [key], {});\n",
              "          if (!dataTable) return;\n",
              "\n",
              "          const docLinkHtml = 'Like what you see? Visit the ' +\n",
              "            '<a target=\"_blank\" href=https://colab.research.google.com/notebooks/data_table.ipynb>data table notebook</a>'\n",
              "            + ' to learn more about interactive tables.';\n",
              "          element.innerHTML = '';\n",
              "          dataTable['output_type'] = 'display_data';\n",
              "          await google.colab.output.renderOutput(dataTable, element);\n",
              "          const docLink = document.createElement('div');\n",
              "          docLink.innerHTML = docLinkHtml;\n",
              "          element.appendChild(docLink);\n",
              "        }\n",
              "      </script>\n",
              "    </div>\n",
              "  </div>\n",
              "  "
            ]
          },
          "metadata": {},
          "execution_count": 80
        }
      ]
    },
    {
      "cell_type": "markdown",
      "metadata": {
        "id": "EL0T11t-ZdNF"
      },
      "source": [
        "Splitting the Features and Target"
      ]
    },
    {
      "cell_type": "code",
      "source": [
        "#assigning features as X\n",
        "#v r gonna drop the class column \n",
        "#as v r droping the column v need 2 mention axis = 1\n",
        "X = medical_premium_data.drop(columns='PremiumPrice', axis=1)\n",
        "\n",
        "#assigning targets as Y\n",
        "Y = medical_premium_data['PremiumPrice']"
      ],
      "metadata": {
        "id": "js8fHeZ-i6h-"
      },
      "execution_count": 81,
      "outputs": []
    },
    {
      "cell_type": "code",
      "source": [
        "print(X) #printing the features\n",
        "print(\"---------------------------------------------------------------------------------------------\")\n",
        "print(Y) #printing the target"
      ],
      "metadata": {
        "id": "HznhFh9bjFn8",
        "colab": {
          "base_uri": "https://localhost:8080/"
        },
        "outputId": "e7225c5e-6e0a-49ea-9385-5da00b7a2ace"
      },
      "execution_count": 82,
      "outputs": [
        {
          "output_type": "stream",
          "name": "stdout",
          "text": [
            "     Age  Diabetes  BloodPressureProblems  AnyTransplants  AnyChronicDiseases  \\\n",
            "0     45         0                      0               0                   0   \n",
            "1     60         1                      0               0                   0   \n",
            "2     36         1                      1               0                   0   \n",
            "3     52         1                      1               0                   1   \n",
            "4     38         0                      0               0                   1   \n",
            "..   ...       ...                    ...             ...                 ...   \n",
            "981   18         0                      0               0                   0   \n",
            "982   64         1                      1               0                   0   \n",
            "983   56         0                      1               0                   0   \n",
            "984   47         1                      1               0                   0   \n",
            "985   21         0                      0               0                   0   \n",
            "\n",
            "     Height  Weight  KnownAllergies  HistoryOfCancerInFamily  \\\n",
            "0       155      57               0                        0   \n",
            "1       180      73               0                        0   \n",
            "2       158      59               0                        0   \n",
            "3       183      93               0                        0   \n",
            "4       166      88               0                        0   \n",
            "..      ...     ...             ...                      ...   \n",
            "981     169      67               0                        0   \n",
            "982     153      70               0                        0   \n",
            "983     155      71               0                        0   \n",
            "984     158      73               1                        0   \n",
            "985     158      75               1                        0   \n",
            "\n",
            "     NumberOfMajorSurgeries  \n",
            "0                         0  \n",
            "1                         0  \n",
            "2                         1  \n",
            "3                         2  \n",
            "4                         1  \n",
            "..                      ...  \n",
            "981                       0  \n",
            "982                       3  \n",
            "983                       1  \n",
            "984                       1  \n",
            "985                       1  \n",
            "\n",
            "[986 rows x 10 columns]\n",
            "---------------------------------------------------------------------------------------------\n",
            "0      25000\n",
            "1      29000\n",
            "2      23000\n",
            "3      28000\n",
            "4      23000\n",
            "       ...  \n",
            "981    15000\n",
            "982    28000\n",
            "983    29000\n",
            "984    39000\n",
            "985    15000\n",
            "Name: PremiumPrice, Length: 986, dtype: int64\n"
          ]
        }
      ]
    },
    {
      "cell_type": "markdown",
      "metadata": {
        "id": "0MKrr9LW2wwf"
      },
      "source": [
        "## Dividing data into train and test data using sklearn's train_test_split()"
      ]
    },
    {
      "cell_type": "code",
      "source": [
        "#spliting the dataset in2 Training & Testing\n",
        "\n",
        "#test size --> 2 specify the percentage of test data needed ==> 0.2 ==> 20%\n",
        "\n",
        "#random state --> specific split of data each value of random_state splits the data differently, v can put any state v want\n",
        "#v need 2 specify the same random_state everytym if v want 2 split the data the same way everytym\n",
        "X_train, X_test, Y_train, Y_test = train_test_split(X.values, Y.values, test_size = 0.2, random_state = 2)"
      ],
      "metadata": {
        "id": "aDqVZSy-jSa9"
      },
      "execution_count": 83,
      "outputs": []
    },
    {
      "cell_type": "code",
      "source": [
        "#lets c how many examples r there for each cases\n",
        "#checking dimensions of Features\n",
        "print(X.shape, X_train.shape, X_test.shape)"
      ],
      "metadata": {
        "id": "XrIVZ7kkj2qN",
        "colab": {
          "base_uri": "https://localhost:8080/"
        },
        "outputId": "277387a1-54fe-4ae1-a29e-fea230939371"
      },
      "execution_count": 84,
      "outputs": [
        {
          "output_type": "stream",
          "name": "stdout",
          "text": [
            "(986, 10) (788, 10) (198, 10)\n"
          ]
        }
      ]
    },
    {
      "cell_type": "code",
      "source": [
        "#lets c how many examples r there for each cases\n",
        "#checking dimensions of Targets\n",
        "print(Y.shape, Y_train.shape, Y_test.shape)"
      ],
      "metadata": {
        "id": "Lij2v3UJkFw2",
        "colab": {
          "base_uri": "https://localhost:8080/"
        },
        "outputId": "e30275b2-55cc-4207-a461-d03c8f20bcb6"
      },
      "execution_count": 85,
      "outputs": [
        {
          "output_type": "stream",
          "name": "stdout",
          "text": [
            "(986,) (788,) (198,)\n"
          ]
        }
      ]
    },
    {
      "cell_type": "markdown",
      "metadata": {
        "id": "Q7tDfIDI2ww1"
      },
      "source": [
        "## Our data is ready to be applied a machine learning algorithm"
      ]
    },
    {
      "cell_type": "markdown",
      "metadata": {
        "id": "dLBMl-35UlLy"
      },
      "source": [
        "## XGBoost Regressor\n",
        "\n",
        "This is type of Decision Tree based ensemble model(use 1 or more model so its lyk incorporating 2 or more models together) "
      ]
    },
    {
      "cell_type": "code",
      "source": [
        "# loading the model\n",
        "# training the model with training data\n",
        "model = XGBRegressor().fit(X_train, Y_train)"
      ],
      "metadata": {
        "id": "RgoASsR8nOV3",
        "colab": {
          "base_uri": "https://localhost:8080/"
        },
        "outputId": "203a8504-4dcf-404d-d9c3-5ba64fb91eb5"
      },
      "execution_count": 86,
      "outputs": [
        {
          "output_type": "stream",
          "name": "stdout",
          "text": [
            "[04:44:32] WARNING: /workspace/src/objective/regression_obj.cu:152: reg:linear is now deprecated in favor of reg:squarederror.\n"
          ]
        }
      ]
    },
    {
      "cell_type": "markdown",
      "metadata": {
        "id": "flLAggHEVXk7"
      },
      "source": [
        "Evaluation"
      ]
    },
    {
      "cell_type": "markdown",
      "metadata": {
        "id": "av8hCGqRVlcl"
      },
      "source": [
        "Prediction on training data"
      ]
    },
    {
      "cell_type": "code",
      "source": [
        "# accuracy for prediction on training data\n",
        "training_data_prediction = model.predict(X_train)\n",
        "training_data_prediction"
      ],
      "metadata": {
        "id": "MfgxueZHnW-Y",
        "colab": {
          "base_uri": "https://localhost:8080/"
        },
        "outputId": "cc0c21dc-88eb-41d1-f8d2-3ed0f807d49a"
      },
      "execution_count": 87,
      "outputs": [
        {
          "output_type": "execute_result",
          "data": {
            "text/plain": [
              "array([29594.854 , 28790.062 , 28575.408 , 14265.516 , 24974.87  ,\n",
              "       14866.936 , 15979.672 , 15508.825 , 28971.584 , 23272.492 ,\n",
              "       27680.537 , 28327.404 , 28387.502 , 16189.781 , 27890.223 ,\n",
              "       28906.924 , 29084.477 , 33600.04  , 22952.07  , 36981.25  ,\n",
              "       27370.951 , 16967.479 , 16505.916 , 24951.338 , 28358.611 ,\n",
              "       17292.85  , 15808.93  , 33647.188 , 22481.506 , 15833.407 ,\n",
              "       22544.473 , 23704.086 , 22095.467 , 16837.512 , 27478.145 ,\n",
              "       24720.068 , 22841.309 , 23293.637 , 14816.766 , 26300.713 ,\n",
              "       24439.582 , 25707.887 , 31443.729 , 16326.456 , 25050.812 ,\n",
              "       24029.496 , 28536.186 , 29882.512 , 23715.158 , 14631.632 ,\n",
              "       15564.138 , 15540.994 , 28192.957 , 21967.516 , 23483.951 ,\n",
              "       17900.924 , 22759.176 , 23926.418 , 15534.99  , 27719.408 ,\n",
              "       27470.807 , 27957.756 , 29904.611 , 14680.438 , 14599.995 ,\n",
              "       31734.125 , 15595.4795, 15079.911 , 25533.389 , 23991.129 ,\n",
              "       34069.76  , 32060.379 , 27748.629 , 33380.62  , 32340.861 ,\n",
              "       15074.716 , 23498.066 , 23355.133 , 16176.347 , 24784.72  ,\n",
              "       23395.727 , 24903.389 , 26488.666 , 29974.797 , 29784.03  ,\n",
              "       26453.25  , 27996.371 , 27149.666 , 28581.29  , 25277.414 ,\n",
              "       34243.008 , 28367.15  , 28365.525 , 26486.773 , 14358.548 ,\n",
              "       26228.217 , 15400.699 , 27636.818 , 15604.508 , 28419.432 ,\n",
              "       22728.143 , 22688.207 , 15592.159 , 27669.22  , 21975.158 ,\n",
              "       24354.87  , 25260.135 , 23383.564 , 30929.83  , 25678.459 ,\n",
              "       23273.574 , 28336.527 , 21967.516 , 15912.232 , 14355.313 ,\n",
              "       28743.734 , 23106.893 , 35226.44  , 23059.873 , 19573.951 ,\n",
              "       26862.115 , 28451.223 , 25047.77  , 27799.55  , 29599.254 ,\n",
              "       24117.986 , 28327.404 , 28665.459 , 15805.578 , 20175.223 ,\n",
              "       33971.527 , 15773.553 , 33485.953 , 37148.766 , 27366.91  ,\n",
              "       16317.871 , 15520.704 , 28877.674 , 34806.73  , 27760.926 ,\n",
              "       15512.323 , 28338.186 , 29855.113 , 15967.872 , 26107.135 ,\n",
              "       22577.703 , 28781.156 , 23701.215 , 31665.467 , 29331.816 ,\n",
              "       22343.104 , 28795.836 , 27683.523 , 16935.908 , 25117.041 ,\n",
              "       23253.701 , 15540.994 , 29761.408 , 22630.715 , 24196.521 ,\n",
              "       24634.49  , 17865.633 , 23598.049 , 15975.724 , 27020.574 ,\n",
              "       27706.555 , 16081.326 , 15483.123 , 22781.115 , 28615.36  ,\n",
              "       28509.668 , 17346.316 , 24466.707 , 22325.717 , 15445.898 ,\n",
              "       22830.963 , 21833.268 , 22562.4   , 21241.395 , 27002.807 ,\n",
              "       15658.039 , 15233.006 , 14631.632 , 21497.324 , 28557.75  ,\n",
              "       16112.56  , 22851.973 , 28101.627 , 14680.438 , 25826.352 ,\n",
              "       15602.932 , 28192.906 , 23039.412 , 15295.681 , 29291.412 ,\n",
              "       17132.324 , 15808.93  , 33697.273 , 24250.469 , 28354.57  ,\n",
              "       25246.645 , 15808.157 , 16364.747 , 16365.797 , 28483.703 ,\n",
              "       34381.855 , 16941.574 , 28794.36  , 23361.316 , 33766.406 ,\n",
              "       27635.156 , 27472.264 , 28440.74  , 22481.506 , 25503.865 ,\n",
              "       37639.973 , 15025.276 , 23817.195 , 22907.293 , 35660.414 ,\n",
              "       26527.422 , 27760.926 , 19992.846 , 35016.137 , 24283.004 ,\n",
              "       27981.457 , 21496.959 , 37686.117 , 23658.27  , 31541.092 ,\n",
              "       14798.729 , 34530.387 , 27721.258 , 22549.328 , 30122.375 ,\n",
              "       27072.229 , 24634.49  , 28401.928 , 15229.128 , 28563.111 ,\n",
              "       23354.824 , 15407.8125, 37543.96  , 23654.357 , 16253.081 ,\n",
              "       24854.42  , 16253.887 , 28787.178 , 25090.748 , 27237.527 ,\n",
              "       27291.967 , 27082.236 , 28408.162 , 22843.031 , 25527.65  ,\n",
              "       14726.496 , 25863.574 , 32317.904 , 23784.002 , 34627.613 ,\n",
              "       15474.726 , 37075.7   , 26497.104 , 33746.344 , 23395.074 ,\n",
              "       24379.205 , 23390.24  , 23741.082 , 22630.715 , 23849.193 ,\n",
              "       15518.131 , 27717.963 , 22648.602 , 28983.72  , 24473.135 ,\n",
              "       27955.348 , 28447.785 , 36993.38  , 23797.158 , 29112.287 ,\n",
              "       26589.625 , 15579.267 , 16767.684 , 29821.357 , 22576.37  ,\n",
              "       15022.099 , 14443.603 , 25352.621 , 25468.254 , 28060.363 ,\n",
              "       22997.98  , 25730.92  , 16698.24  , 25846.672 , 22893.283 ,\n",
              "       27691.723 , 28507.562 , 33584.64  , 29637.814 , 28562.234 ,\n",
              "       25185.611 , 28574.812 , 16992.69  , 24761.006 , 22649.17  ,\n",
              "       27926.262 , 27669.22  , 27815.441 , 28408.162 , 28562.234 ,\n",
              "       30175.35  , 15229.128 , 36285.055 , 25059.006 , 29130.293 ,\n",
              "       23190.934 , 23780.008 , 26742.441 , 15881.734 , 14781.008 ,\n",
              "       28459.367 , 30039.176 , 23554.176 , 17350.352 , 16209.705 ,\n",
              "       28411.361 , 30852.174 , 25271.629 , 28431.988 , 14383.928 ,\n",
              "       16097.16  , 28755.973 , 16358.646 , 26720.646 , 34625.816 ,\n",
              "       22863.74  , 27644.885 , 28242.46  , 27585.227 , 26334.084 ,\n",
              "       22807.336 , 23780.008 , 35333.633 , 15627.27  , 21526.523 ,\n",
              "       23431.576 , 20263.803 , 21074.732 , 28420.463 , 24412.08  ,\n",
              "       16096.712 , 14383.928 , 16036.242 , 33914.906 , 26718.69  ,\n",
              "       25986.176 , 26637.469 , 16547.887 , 22131.838 , 23819.943 ,\n",
              "       28344.54  , 22713.693 , 21408.111 , 15610.806 , 26526.055 ,\n",
              "       22813.818 , 36337.938 , 27608.33  , 25449.473 , 33036.504 ,\n",
              "       26205.268 , 24288.885 , 25786.469 , 27927.492 , 23498.768 ,\n",
              "       20659.707 , 26504.967 , 27535.283 , 29433.977 , 15119.644 ,\n",
              "       30544.393 , 28661.176 , 15727.535 , 28495.812 , 27072.229 ,\n",
              "       29855.113 , 26425.238 , 23412.049 , 15564.138 , 16365.797 ,\n",
              "       30142.31  , 23120.408 , 23846.428 , 21431.66  , 18463.85  ,\n",
              "       15382.294 , 19894.062 , 21599.236 , 24790.213 , 25642.516 ,\n",
              "       16204.974 , 31944.307 , 32143.676 , 26963.902 , 14897.209 ,\n",
              "       23253.701 , 17373.521 , 27249.354 , 28467.906 , 27536.379 ,\n",
              "       28410.564 , 23806.492 , 28468.357 , 14383.928 , 22275.898 ,\n",
              "       24412.08  , 15462.65  , 15099.023 , 23719.64  , 20100.012 ,\n",
              "       25547.959 , 23163.05  , 22253.814 , 22649.17  , 22964.568 ,\n",
              "       15727.535 , 27984.646 , 19820.088 , 25357.742 , 16165.238 ,\n",
              "       19839.66  , 34084.04  , 24288.885 , 14832.7295, 28032.467 ,\n",
              "       28416.404 , 29228.662 , 16695.768 , 26183.088 , 27017.762 ,\n",
              "       22925.748 , 24545.418 , 15659.478 , 27731.523 , 22533.121 ,\n",
              "       28411.361 , 25747.822 , 29726.637 , 27922.182 , 28450.5   ,\n",
              "       22873.984 , 32389.953 , 28511.32  , 28538.576 , 24945.215 ,\n",
              "       15830.462 , 16410.926 , 27539.846 , 23480.398 , 23685.307 ,\n",
              "       22630.715 , 16377.283 , 24732.424 , 25134.547 , 21470.486 ,\n",
              "       31850.08  , 26652.09  , 28462.025 , 28522.309 , 15168.459 ,\n",
              "       23186.914 , 25131.51  , 16635.416 , 15178.408 , 26546.574 ,\n",
              "       28769.83  , 24379.205 , 16165.139 , 24647.594 , 28779.703 ,\n",
              "       29467.37  , 26494.547 , 27736.773 , 27479.045 , 30460.764 ,\n",
              "       28855.707 , 27023.127 , 16456.996 , 27704.342 , 17698.092 ,\n",
              "       30704.664 , 27655.406 , 34365.582 , 27016.627 , 15089.451 ,\n",
              "       25811.062 , 29708.686 , 27677.283 , 18093.006 , 23154.08  ,\n",
              "       27674.95  , 24476.791 , 31116.021 , 29960.822 , 28347.03  ,\n",
              "       27734.693 , 15355.56  , 16700.984 , 25270.703 , 23461.879 ,\n",
              "       17014.754 , 24288.885 , 24379.205 , 27596.082 , 15192.649 ,\n",
              "       31635.322 , 15787.132 , 23117.447 , 18471.877 , 15669.593 ,\n",
              "       22282.305 , 23253.701 , 23989.902 , 33358.97  , 24509.887 ,\n",
              "       14575.641 , 22831.686 , 31075.557 , 25316.045 , 15350.041 ,\n",
              "       22688.207 , 28510.754 , 26848.33  , 21751.104 , 16075.585 ,\n",
              "       27072.229 , 25322.312 , 28759.559 , 27790.666 , 15343.997 ,\n",
              "       30914.918 , 22095.467 , 27411.3   , 25200.404 , 30829.445 ,\n",
              "       29451.08  , 27644.885 , 15604.508 , 28493.955 , 14631.632 ,\n",
              "       24696.377 , 25666.375 , 29312.129 , 31580.328 , 28245.932 ,\n",
              "       26605.783 , 15242.671 , 15381.232 , 15504.405 , 24288.885 ,\n",
              "       39145.758 , 27579.266 , 20280.396 , 24314.934 , 23573.336 ,\n",
              "       27644.885 , 27146.752 , 28312.508 , 23744.883 , 24634.49  ,\n",
              "       26998.152 , 23378.14  , 24742.582 , 24649.31  , 23583.549 ,\n",
              "       15424.047 , 25203.945 , 23313.43  , 24164.592 , 15282.752 ,\n",
              "       28312.508 , 17462.043 , 16837.512 , 23224.125 , 28237.467 ,\n",
              "       28532.254 , 22557.824 , 27121.49  , 22867.357 , 22791.027 ,\n",
              "       23210.525 , 23589.824 , 25623.885 , 23453.947 , 15020.236 ,\n",
              "       15382.294 , 27544.129 , 22824.438 , 25185.611 , 25970.643 ,\n",
              "       27123.719 , 15196.625 , 15931.8955, 27573.02  , 26430.275 ,\n",
              "       23303.7   , 24181.111 , 25209.47  , 28582.086 , 20797.941 ,\n",
              "       23317.186 , 15721.415 , 15294.289 , 23483.951 , 34312.945 ,\n",
              "       28135.453 , 28575.408 , 22793.479 , 15462.409 , 14882.073 ,\n",
              "       22782.201 , 28038.53  , 25884.133 , 18932.713 , 25315.383 ,\n",
              "       28952.193 , 15182.372 , 24283.004 , 23713.928 , 29154.152 ,\n",
              "       27188.79  , 27379.422 , 16543.682 , 25158.271 , 15213.846 ,\n",
              "       23429.213 , 23502.666 , 27699.736 , 31166.268 , 23341.256 ,\n",
              "       35156.08  , 20985.51  , 27008.434 , 15185.82  , 18258.293 ,\n",
              "       29734.354 , 24609.89  , 28757.006 , 27353.854 , 14749.133 ,\n",
              "       30186.271 , 17843.111 , 22524.479 , 28301.342 , 15604.508 ,\n",
              "       23699.771 , 16416.229 , 15497.635 , 25260.135 , 38051.64  ,\n",
              "       23293.637 , 27724.74  , 24427.102 , 27755.488 , 26398.346 ,\n",
              "       28150.234 , 28416.404 , 28831.531 , 28520.148 , 15229.128 ,\n",
              "       22867.357 , 27203.61  , 37565.254 , 27202.496 , 27132.11  ,\n",
              "       38619.71  , 15020.236 , 28512.809 , 34611.14  , 15664.464 ,\n",
              "       17055.416 , 28516.578 , 27263.863 , 36463.375 , 24181.111 ,\n",
              "       25222.129 , 25248.943 , 29228.523 , 28841.695 , 29433.977 ,\n",
              "       15822.921 , 28462.025 , 16712.4   , 24314.934 , 37654.918 ,\n",
              "       23372.113 , 25573.324 , 23176.395 , 25850.371 , 27693.08  ,\n",
              "       21792.697 , 28700.477 , 28950.977 , 28762.143 , 26474.904 ,\n",
              "       15672.7295, 21408.111 , 25008.639 , 23001.055 , 24399.646 ,\n",
              "       19952.168 , 23412.049 , 16700.17  , 26398.346 , 22673.695 ,\n",
              "       14727.662 , 27518.406 , 15305.342 , 27520.428 , 23412.049 ,\n",
              "       24288.885 , 27802.754 , 16654.736 , 22540.559 , 21024.494 ,\n",
              "       16835.896 , 27766.607 , 28511.32  , 30073.445 , 28318.676 ,\n",
              "       27191.242 , 28435.441 , 24097.611 , 15743.29  , 23484.281 ,\n",
              "       24207.488 , 23179.488 , 22764.252 , 28604.998 , 24565.605 ,\n",
              "       27085.592 , 15554.554 , 20349.152 , 28990.158 , 19573.951 ,\n",
              "       21950.447 , 22245.824 , 17103.344 , 39891.14  , 27925.13  ,\n",
              "       16549.607 , 15070.101 , 23883.314 , 26640.717 , 27724.293 ,\n",
              "       29250.66  , 28503.84  , 25246.645 , 27948.365 , 27906.252 ,\n",
              "       38480.22  , 23581.29  , 31090.36  , 15842.2295, 28327.404 ,\n",
              "       15301.4375, 15194.99  , 22637.27  , 27676.287 , 24367.426 ,\n",
              "       25117.867 , 19661.473 , 34342.41  , 26212.213 , 22512.303 ,\n",
              "       24283.004 , 27212.94  , 28037.219 , 23187.938 , 28834.586 ,\n",
              "       28640.402 , 23483.951 , 22964.504 , 22835.428 , 22814.932 ,\n",
              "       21243.992 , 24631.766 , 24196.521 ], dtype=float32)"
            ]
          },
          "metadata": {},
          "execution_count": 87
        }
      ]
    },
    {
      "cell_type": "markdown",
      "metadata": {
        "id": "wQhfqLU6XeRx"
      },
      "source": [
        "Prediction on Test Data "
      ]
    },
    {
      "cell_type": "code",
      "source": [
        "# accuracy for prediction on test data\n",
        "test_data_prediction = model.predict(X_test)\n",
        "test_data_prediction"
      ],
      "metadata": {
        "id": "k7pMatMDnwsV",
        "colab": {
          "base_uri": "https://localhost:8080/"
        },
        "outputId": "e4c28735-03b3-49a2-8bd2-914e80136f79"
      },
      "execution_count": 88,
      "outputs": [
        {
          "output_type": "execute_result",
          "data": {
            "text/plain": [
              "array([32148.107, 33382.824, 24283.004, 28490.77 , 30655.836, 29757.732,\n",
              "       15356.   , 28581.29 , 29510.426, 25947.83 , 28088.967, 23661.596,\n",
              "       16456.482, 24898.75 , 27752.828, 22673.695, 28533.89 , 24902.42 ,\n",
              "       30016.426, 14801.767, 35391.02 , 24670.521, 25422.438, 17252.31 ,\n",
              "       24168.35 , 23456.85 , 15710.571, 23499.516, 25762.557, 28590.564,\n",
              "       28560.42 , 16167.913, 28095.635, 26826.12 , 23477.008, 28015.035,\n",
              "       23519.332, 14386.603, 22797.162, 23371.994, 15025.9  , 22894.39 ,\n",
              "       19832.057, 24581.752, 27138.969, 15147.097, 24502.463, 28419.4  ,\n",
              "       27712.793, 36215.31 , 24715.69 , 14690.018, 28447.785, 26687.717,\n",
              "       28402.205, 22025.68 , 22500.623, 27868.105, 27924.584, 25304.625,\n",
              "       24283.004, 14714.933, 28689.883, 24715.69 , 22673.695, 33620.324,\n",
              "       28419.432, 27232.092, 27264.125, 33433.492, 26775.686, 33608.285,\n",
              "       24288.885, 36305.812, 38642.996, 16081.326, 17285.172, 28095.723,\n",
              "       24250.533, 25226.373, 15763.019, 24470.91 , 16219.343, 22671.053,\n",
              "       28033.271, 26764.629, 27719.766, 31068.045, 14723.022, 22418.936,\n",
              "       23240.994, 24283.004, 17188.611, 27387.08 , 22931.629, 28614.96 ,\n",
              "       27604.95 , 15324.224, 23255.775, 24379.205, 14698.354, 27785.969,\n",
              "       27214.852, 23480.398, 15353.964, 15756.799, 38377.664, 23444.346,\n",
              "       28491.158, 15344.103, 30216.148, 32163.574, 28976.594, 16193.002,\n",
              "       14961.499, 23867.352, 37207.223, 28355.564, 15650.382, 26205.268,\n",
              "       26195.902, 21480.398, 37755.01 , 19812.13 , 33332.734, 27715.627,\n",
              "       22576.37 , 23774.057, 26643.854, 24288.885, 24529.143, 17022.838,\n",
              "       27228.725, 28428.96 , 16253.081, 23326.17 , 27679.473, 16725.148,\n",
              "       27979.252, 15145.188, 28544.2  , 26649.684, 23719.473, 24260.793,\n",
              "       15978.773, 23079.479, 14174.282, 14726.496, 28368.62 , 23253.701,\n",
              "       28273.701, 27473.35 , 22790.336, 29201.861, 26775.686, 29219.516,\n",
              "       24288.885, 25162.191, 23244.867, 22952.07 , 17715.357, 31653.627,\n",
              "       26502.91 , 22820.326, 22791.611, 17118.018, 18205.178, 28515.264,\n",
              "       27741.283, 27403.309, 28586.023, 15471.892, 28350.861, 25209.47 ,\n",
              "       27151.307, 33791.312, 25122.902, 28650.57 , 15005.879, 25185.611,\n",
              "       24393.967, 24321.42 , 28304.357, 28856.691, 31128.385, 23186.914,\n",
              "       34552.344, 15404.725, 23483.951, 32557.72 , 23356.713, 25090.748,\n",
              "       28426.14 , 15119.644, 15528.064, 37259.664, 24476.791, 34022.074],\n",
              "      dtype=float32)"
            ]
          },
          "metadata": {},
          "execution_count": 88
        }
      ]
    },
    {
      "cell_type": "markdown",
      "metadata": {
        "id": "iQexBkcF2wxN"
      },
      "source": [
        "## XGBRegressor ML model Score"
      ]
    },
    {
      "cell_type": "code",
      "source": [
        "#mean accuracy (accuracy score)\n",
        "#measuring the accuracy of the model against the training data \n",
        "model.score(X_train, Y_train)"
      ],
      "metadata": {
        "colab": {
          "base_uri": "https://localhost:8080/"
        },
        "id": "mzR_Lukut6YM",
        "outputId": "885f9712-82db-4d6e-b4b7-c39b12f1eea3"
      },
      "execution_count": 89,
      "outputs": [
        {
          "output_type": "execute_result",
          "data": {
            "text/plain": [
              "0.8791766224293489"
            ]
          },
          "metadata": {},
          "execution_count": 89
        }
      ]
    },
    {
      "cell_type": "code",
      "source": [
        "#mean accuracy (accuracy score)\n",
        "#measuring the accuracy of the model against the test data \n",
        "model.score(X_test, Y_test)"
      ],
      "metadata": {
        "colab": {
          "base_uri": "https://localhost:8080/"
        },
        "id": "F1FmsZqMtB8d",
        "outputId": "8318c4fb-4e1a-40a2-e534-d8e88c47c69d"
      },
      "execution_count": 90,
      "outputs": [
        {
          "output_type": "execute_result",
          "data": {
            "text/plain": [
              "0.796115496644966"
            ]
          },
          "metadata": {},
          "execution_count": 90
        }
      ]
    },
    {
      "cell_type": "markdown",
      "metadata": {
        "id": "uSnVinOyQR7P"
      },
      "source": [
        "Lets Cross Validate and Check how the model performs."
      ]
    },
    {
      "cell_type": "code",
      "source": [
        "#cross validation\n",
        "#it is used to protect against overfitting in a predictive model, \n",
        "#particularly in a case where the amount of data may be limited. In cross-validation, \n",
        "#you make a fixed number of folds (or partitions) of the data, run the analysis on each fold, and then average the overall error estimate.\n",
        "#cv = 5 ==> partition the data in2 4 Training & 1 Testing Data parts\n",
        "print(cross_val_score(model, X, Y, cv = 5))"
      ],
      "metadata": {
        "colab": {
          "base_uri": "https://localhost:8080/"
        },
        "id": "9tQBKRB_toGl",
        "outputId": "dfa62e0b-08f1-477a-e267-4e2f6f4c9a14"
      },
      "execution_count": 91,
      "outputs": [
        {
          "output_type": "stream",
          "name": "stdout",
          "text": [
            "[04:44:32] WARNING: /workspace/src/objective/regression_obj.cu:152: reg:linear is now deprecated in favor of reg:squarederror.\n",
            "[04:44:32] WARNING: /workspace/src/objective/regression_obj.cu:152: reg:linear is now deprecated in favor of reg:squarederror.\n",
            "[04:44:32] WARNING: /workspace/src/objective/regression_obj.cu:152: reg:linear is now deprecated in favor of reg:squarederror.\n",
            "[04:44:32] WARNING: /workspace/src/objective/regression_obj.cu:152: reg:linear is now deprecated in favor of reg:squarederror.\n",
            "[04:44:32] WARNING: /workspace/src/objective/regression_obj.cu:152: reg:linear is now deprecated in favor of reg:squarederror.\n",
            "[0.78072397 0.72508556 0.80267643 0.87316903 0.64958212]\n"
          ]
        }
      ]
    },
    {
      "cell_type": "markdown",
      "metadata": {
        "id": "gq8ZX1xpwPF5"
      },
      "source": [
        "Making a Predictive System"
      ]
    },
    {
      "cell_type": "code",
      "source": [
        "#v r predicting by giving the input \n",
        "print(\"***Price of Medical Insurance***\")\n",
        "print('---------------------------------')\n",
        "\n",
        "a = int(input(\"Enter the Age of the Customer : \"))\n",
        "b = int(input(\"Does the Customer has Diabetes (1 = Yes, 0 = No) : \"))\n",
        "c = int(input(\"Does the Customer has Blood Pressure Problems (1 = Yes, 0 = No) : \"))\n",
        "d = int(input(\"Does the Customer has Any Transplants (1 = Yes, 0 = No) : \"))\n",
        "e = int(input(\"Does the Customer has Any Chronic Diseases (1 = Yes, 0 = No) : \"))\n",
        "f = float(input(\"Height of Customer (in cm) : \"))\n",
        "g = float(input(\"Weight of Customer (in kg) : \"))\n",
        "h = int(input(\"Does the Customer has Known Allergies (1 = Yes, 0 = No) : \"))\n",
        "i = int(input(\"Does the Customer has History Of Cancer In Family (1 = Yes, 0 = No) : \"))\n",
        "j = int(input(\"Number Of Major Surgeries for Customer : \"))\n",
        "\n",
        "input_data = np.array([[a, b, c, d, e, f, g, h, i, j]])\n",
        "\n",
        "# changing input_data to a numpy array\n",
        "input_data_as_numpy_array = np.asarray(input_data)\n",
        "\n",
        "# reshape the array\n",
        "input_data_reshaped = input_data_as_numpy_array.reshape(1,-1)\n",
        "\n",
        "prediction = model.predict(input_data_reshaped)\n",
        "print(\"-----------------------------------------------------------------------------------\")\n",
        "\n",
        "print('The Medical Insurance cost : $', prediction[0])"
      ],
      "metadata": {
        "id": "zAy_CYe5qIHV",
        "colab": {
          "base_uri": "https://localhost:8080/"
        },
        "outputId": "8fc3efa0-8f44-45de-a3c3-04925d8ec2f1"
      },
      "execution_count": 93,
      "outputs": [
        {
          "output_type": "stream",
          "name": "stdout",
          "text": [
            "***Price of Medical Insurance***\n",
            "---------------------------------\n",
            "Enter the Age of the Customer : 19\n",
            "Does the Customer has Diabetes (1 = Yes, 0 = No) : 0\n",
            "Does the Customer has Blood Pressure Problems (1 = Yes, 0 = No) : 0\n",
            "Does the Customer has Any Transplants (1 = Yes, 0 = No) : 0\n",
            "Does the Customer has Any Chronic Diseases (1 = Yes, 0 = No) : 0\n",
            "Height of Customer (in cm) : 186\n",
            "Weight of Customer (in kg) : 100\n",
            "Does the Customer has Known Allergies (1 = Yes, 0 = No) : 1\n",
            "Does the Customer has History Of Cancer In Family (1 = Yes, 0 = No) : 0\n",
            "Number Of Major Surgeries for Customer : 0\n",
            "-----------------------------------------------------------------------------------\n",
            "The Medical Insurance cost : $ 16104.737\n"
          ]
        }
      ]
    },
    {
      "cell_type": "markdown",
      "source": [
        "# Summary\n",
        "So this is how we can build a Medical Insurance Premium Prediction model using Machine Learning and the Python programming language. I hope you liked this project on how to build a  model with Machine Learning."
      ],
      "metadata": {
        "id": "zppcuj75tZXY"
      }
    }
  ]
}